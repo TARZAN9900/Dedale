{
 "cells": [
  {
   "cell_type": "code",
   "execution_count": 1,
   "metadata": {},
   "outputs": [],
   "source": [
    "import pandas as pd\n",
    "import quantstats as qs"
   ]
  },
  {
   "cell_type": "code",
   "execution_count": null,
   "metadata": {},
   "outputs": [],
   "source": [
    "usdjpy = pd.read_csv('ton_fichier.csv')\n",
    "usdjpy"
   ]
  },
  {
   "cell_type": "code",
   "execution_count": null,
   "metadata": {},
   "outputs": [],
   "source": [
    "usdjpy['total_pnl'].sum()"
   ]
  },
  {
   "cell_type": "code",
   "execution_count": null,
   "metadata": {},
   "outputs": [],
   "source": [
    "usdjpy.describe()"
   ]
  },
  {
   "cell_type": "code",
   "execution_count": 6,
   "metadata": {},
   "outputs": [],
   "source": [
    "def compute_metrics(backtest_data, initial_account_balance):\n",
    "\n",
    "    backtest_data['time_open'] = pd.to_datetime(\n",
    "        backtest_data['time_open'], unit='s'\n",
    "    )\n",
    "    backtest_data['time_close'] = pd.to_datetime(\n",
    "        backtest_data['time_close'], unit='s'\n",
    "    )\n",
    "\n",
    "    backtest_data = backtest_data.set_index('time_close')\n",
    "    backtest_data = backtest_data.sort_values('time_close')\n",
    "\n",
    "    return backtest_data['total_pnl'].cumsum() + initial_account_balance\n"
   ]
  },
  {
   "cell_type": "code",
   "execution_count": null,
   "metadata": {},
   "outputs": [],
   "source": [
    "qs.reports.basic(\n",
    "    compute_metrics(backtest_data=usdjpy, initial_account_balance=100000)\n",
    ")"
   ]
  },
  {
   "cell_type": "code",
   "execution_count": 9,
   "metadata": {},
   "outputs": [],
   "source": [
    "from pathlib import Path"
   ]
  },
  {
   "cell_type": "code",
   "execution_count": null,
   "metadata": {},
   "outputs": [],
   "source": [
    "dfs = [pd.read_csv(file) for file in Path('backtest_data').rglob('*.csv')]\n",
    "\n",
    "backtest_data = pd.concat(dfs, ignore_index=True)\n",
    "backtest_data"
   ]
  },
  {
   "cell_type": "code",
   "execution_count": null,
   "metadata": {},
   "outputs": [],
   "source": [
    "backtest_data.describe()"
   ]
  },
  {
   "cell_type": "code",
   "execution_count": null,
   "metadata": {},
   "outputs": [],
   "source": [
    "qs.reports.basic(\n",
    "    compute_metrics(\n",
    "        backtest_data=backtest_data, initial_account_balance=200000\n",
    "    )\n",
    ")"
   ]
  }
 ],
 "metadata": {
  "kernelspec": {
   "display_name": "backtesting",
   "language": "python",
   "name": "python3"
  },
  "language_info": {
   "codemirror_mode": {
    "name": "ipython",
    "version": 3
   },
   "file_extension": ".py",
   "mimetype": "text/x-python",
   "name": "python",
   "nbconvert_exporter": "python",
   "pygments_lexer": "ipython3",
   "version": "3.12.5"
  }
 },
 "nbformat": 4,
 "nbformat_minor": 2
}
